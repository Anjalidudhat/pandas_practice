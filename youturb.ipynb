{
  "nbformat": 4,
  "nbformat_minor": 0,
  "metadata": {
    "colab": {
      "provenance": []
    },
    "kernelspec": {
      "name": "python3",
      "display_name": "Python 3"
    },
    "language_info": {
      "name": "python"
    }
  },
  "cells": [
    {
      "cell_type": "code",
      "source": [
        "import pandas as pd"
      ],
      "metadata": {
        "id": "mUmIqaZV14aX"
      },
      "execution_count": null,
      "outputs": []
    },
    {
      "cell_type": "code",
      "execution_count": null,
      "metadata": {
        "colab": {
          "base_uri": "https://localhost:8080/"
        },
        "id": "AofsSbuP1gGJ",
        "outputId": "3473c0da-0d60-4589-bbc3-9b87e3a5e6ae"
      },
      "outputs": [
        {
          "output_type": "execute_result",
          "data": {
            "text/plain": [
              "0       India\n",
              "1    pakistan\n",
              "2       Nepal\n",
              "3         USA\n",
              "4     Germany\n",
              "dtype: object"
            ]
          },
          "metadata": {},
          "execution_count": 2
        }
      ],
      "source": [
        "country = [\"India\", \"pakistan\", \"Nepal\", \"USA\", \"Germany\"]\n",
        "pd.Series(country)"
      ]
    },
    {
      "cell_type": "markdown",
      "source": [
        "## integer"
      ],
      "metadata": {
        "id": "0DDfPUOC2lnH"
      }
    },
    {
      "cell_type": "code",
      "source": [
        "runs = [50,55,13,1,90,100]\n",
        "pd.Series(runs)"
      ],
      "metadata": {
        "colab": {
          "base_uri": "https://localhost:8080/"
        },
        "id": "qNiDnqrV1m-_",
        "outputId": "61c4128f-c5ee-4f04-e6af-9c93ef23fe9f"
      },
      "execution_count": null,
      "outputs": [
        {
          "output_type": "execute_result",
          "data": {
            "text/plain": [
              "0     50\n",
              "1     55\n",
              "2     13\n",
              "3      1\n",
              "4     90\n",
              "5    100\n",
              "dtype: int64"
            ]
          },
          "metadata": {},
          "execution_count": 3
        }
      ]
    },
    {
      "cell_type": "markdown",
      "source": [
        "## custom index"
      ],
      "metadata": {
        "id": "OyBfS-1A3E5f"
      }
    },
    {
      "cell_type": "code",
      "source": [
        "marks = [67,43,90,100,89]\n",
        "subject = ['maths', 'english', 'eco', 'bio', 'phy']\n",
        "\n",
        "pd.Series(marks, index=subject)"
      ],
      "metadata": {
        "colab": {
          "base_uri": "https://localhost:8080/"
        },
        "id": "3A7rAy4d2vuz",
        "outputId": "33284510-0fa2-4047-8899-cf1086f81c06"
      },
      "execution_count": null,
      "outputs": [
        {
          "output_type": "execute_result",
          "data": {
            "text/plain": [
              "maths       67\n",
              "english     43\n",
              "eco         90\n",
              "bio        100\n",
              "phy         89\n",
              "dtype: int64"
            ]
          },
          "metadata": {},
          "execution_count": 5
        }
      ]
    },
    {
      "cell_type": "markdown",
      "source": [
        "## setting name"
      ],
      "metadata": {
        "id": "WR_4_G6m4sCf"
      }
    },
    {
      "cell_type": "code",
      "source": [
        "marks = pd.Series(marks, index=subject, name = 'Anjali reslts')\n",
        "marks"
      ],
      "metadata": {
        "colab": {
          "base_uri": "https://localhost:8080/"
        },
        "id": "8p-yyhGH3oca",
        "outputId": "00812005-9e58-4d6f-f6ed-11d721aaae3a"
      },
      "execution_count": null,
      "outputs": [
        {
          "output_type": "execute_result",
          "data": {
            "text/plain": [
              "maths       67\n",
              "english     43\n",
              "eco         90\n",
              "bio        100\n",
              "phy         89\n",
              "Name: Anjali reslts, dtype: int64"
            ]
          },
          "metadata": {},
          "execution_count": 7
        }
      ]
    },
    {
      "cell_type": "markdown",
      "source": [],
      "metadata": {
        "id": "rTXmkgde72nr"
      }
    },
    {
      "cell_type": "markdown",
      "source": [],
      "metadata": {
        "id": "j7lcKlwO73Nt"
      }
    },
    {
      "cell_type": "code",
      "source": [
        "marks = {\n",
        "    'math': 52,\n",
        "    'english': 43,\n",
        "    'eco': 90,\n",
        "    'bio': 100,\n",
        "    'phy': 89\n",
        "}\n",
        "\n",
        "marks_series = pd.Series(marks)\n",
        "marks_series"
      ],
      "metadata": {
        "colab": {
          "base_uri": "https://localhost:8080/"
        },
        "id": "hbkhDQvB45rl",
        "outputId": "e8bcb983-278c-445a-f8af-caff451a77f9"
      },
      "execution_count": null,
      "outputs": [
        {
          "output_type": "execute_result",
          "data": {
            "text/plain": [
              "math        52\n",
              "english     43\n",
              "eco         90\n",
              "bio        100\n",
              "phy         89\n",
              "dtype: int64"
            ]
          },
          "metadata": {},
          "execution_count": 8
        }
      ]
    },
    {
      "cell_type": "markdown",
      "source": [
        "# Series **Attribute**"
      ],
      "metadata": {
        "id": "gylQS2tY7vQe"
      }
    },
    {
      "cell_type": "code",
      "source": [
        "# size\n",
        "\n",
        "marks_series"
      ],
      "metadata": {
        "colab": {
          "base_uri": "https://localhost:8080/"
        },
        "id": "YfiGYkwt53Ev",
        "outputId": "d6113233-d7b4-4e1c-d219-921dcc3e995f"
      },
      "execution_count": null,
      "outputs": [
        {
          "output_type": "execute_result",
          "data": {
            "text/plain": [
              "math        52\n",
              "english     43\n",
              "eco         90\n",
              "bio        100\n",
              "phy         89\n",
              "dtype: int64"
            ]
          },
          "metadata": {},
          "execution_count": 9
        }
      ]
    },
    {
      "cell_type": "code",
      "source": [
        "marks_series.size"
      ],
      "metadata": {
        "colab": {
          "base_uri": "https://localhost:8080/"
        },
        "id": "fQeUy4Cq8DKB",
        "outputId": "468e69fd-fcdd-4b6d-dd2f-319dcc593fe3"
      },
      "execution_count": null,
      "outputs": [
        {
          "output_type": "execute_result",
          "data": {
            "text/plain": [
              "5"
            ]
          },
          "metadata": {},
          "execution_count": 10
        }
      ]
    },
    {
      "cell_type": "code",
      "source": [
        "marks_series.dtype"
      ],
      "metadata": {
        "colab": {
          "base_uri": "https://localhost:8080/"
        },
        "id": "MgRb7CAy8It_",
        "outputId": "286f9e07-b9d8-4668-b166-8092006575f1"
      },
      "execution_count": null,
      "outputs": [
        {
          "output_type": "execute_result",
          "data": {
            "text/plain": [
              "dtype('int64')"
            ]
          },
          "metadata": {},
          "execution_count": 11
        }
      ]
    },
    {
      "cell_type": "code",
      "source": [
        "marks_series.name"
      ],
      "metadata": {
        "id": "KcnrujIQ8TW_"
      },
      "execution_count": null,
      "outputs": []
    },
    {
      "cell_type": "code",
      "source": [
        "marks_series.is_unique"
      ],
      "metadata": {
        "colab": {
          "base_uri": "https://localhost:8080/"
        },
        "id": "tIDLHnuq8bTV",
        "outputId": "dcbeded8-65df-414e-f652-d44008c7f1bc"
      },
      "execution_count": null,
      "outputs": [
        {
          "output_type": "execute_result",
          "data": {
            "text/plain": [
              "True"
            ]
          },
          "metadata": {},
          "execution_count": 15
        }
      ]
    },
    {
      "cell_type": "code",
      "source": [],
      "metadata": {
        "id": "lUgBxoYV8y28"
      },
      "execution_count": null,
      "outputs": []
    }
  ]
}